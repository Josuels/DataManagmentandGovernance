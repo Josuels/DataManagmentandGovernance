{
 "cells": [
  {
   "cell_type": "code",
   "execution_count": 2,
   "id": "1b40c2fd",
   "metadata": {},
   "outputs": [],
   "source": [
    "import pandas as pd\n",
    "import numpy as np"
   ]
  },
  {
   "cell_type": "code",
   "execution_count": 3,
   "id": "2a2e584f",
   "metadata": {},
   "outputs": [
    {
     "data": {
      "text/html": [
       "<div>\n",
       "<style scoped>\n",
       "    .dataframe tbody tr th:only-of-type {\n",
       "        vertical-align: middle;\n",
       "    }\n",
       "\n",
       "    .dataframe tbody tr th {\n",
       "        vertical-align: top;\n",
       "    }\n",
       "\n",
       "    .dataframe thead th {\n",
       "        text-align: right;\n",
       "    }\n",
       "</style>\n",
       "<table border=\"1\" class=\"dataframe\">\n",
       "  <thead>\n",
       "    <tr style=\"text-align: right;\">\n",
       "      <th></th>\n",
       "      <th>Nome da Origem</th>\n",
       "      <th>Tipo Titulo</th>\n",
       "      <th>Vencimento do Titulo</th>\n",
       "      <th>Data Resgate</th>\n",
       "      <th>PU</th>\n",
       "      <th>Quantidade</th>\n",
       "      <th>Valor</th>\n",
       "    </tr>\n",
       "  </thead>\n",
       "  <tbody>\n",
       "    <tr>\n",
       "      <th>0</th>\n",
       "      <td>B7.txt</td>\n",
       "      <td>Tesouro Selic</td>\n",
       "      <td>2005-02-16</td>\n",
       "      <td>2005-02-16</td>\n",
       "      <td>2205.900143</td>\n",
       "      <td>8632.40</td>\n",
       "      <td>1.904221e+07</td>\n",
       "    </tr>\n",
       "    <tr>\n",
       "      <th>1</th>\n",
       "      <td>B7.txt</td>\n",
       "      <td>Tesouro IGPM+ com Juros Semestrais</td>\n",
       "      <td>2005-12-01</td>\n",
       "      <td>2005-12-01</td>\n",
       "      <td>1823.358458</td>\n",
       "      <td>40179.80</td>\n",
       "      <td>7.326218e+07</td>\n",
       "    </tr>\n",
       "    <tr>\n",
       "      <th>2</th>\n",
       "      <td>B7.txt</td>\n",
       "      <td>Tesouro Prefixado</td>\n",
       "      <td>2005-10-01</td>\n",
       "      <td>2005-10-03</td>\n",
       "      <td>1000.000000</td>\n",
       "      <td>57148.40</td>\n",
       "      <td>5.714840e+07</td>\n",
       "    </tr>\n",
       "    <tr>\n",
       "      <th>3</th>\n",
       "      <td>B7.txt</td>\n",
       "      <td>Tesouro IGPM+ com Juros Semestrais</td>\n",
       "      <td>2005-07-01</td>\n",
       "      <td>2005-07-01</td>\n",
       "      <td>1832.980489</td>\n",
       "      <td>1809.00</td>\n",
       "      <td>3.315862e+06</td>\n",
       "    </tr>\n",
       "    <tr>\n",
       "      <th>4</th>\n",
       "      <td>B7.txt</td>\n",
       "      <td>Tesouro Prefixado</td>\n",
       "      <td>2005-07-01</td>\n",
       "      <td>2005-07-01</td>\n",
       "      <td>1000.000000</td>\n",
       "      <td>40151.40</td>\n",
       "      <td>4.015140e+07</td>\n",
       "    </tr>\n",
       "    <tr>\n",
       "      <th>...</th>\n",
       "      <td>...</td>\n",
       "      <td>...</td>\n",
       "      <td>...</td>\n",
       "      <td>...</td>\n",
       "      <td>...</td>\n",
       "      <td>...</td>\n",
       "      <td>...</td>\n",
       "    </tr>\n",
       "    <tr>\n",
       "      <th>64</th>\n",
       "      <td>B7.txt</td>\n",
       "      <td>Tesouro Prefixado</td>\n",
       "      <td>2017-01-01</td>\n",
       "      <td>2017-01-02</td>\n",
       "      <td>1000.000000</td>\n",
       "      <td>1235990.48</td>\n",
       "      <td>1.235990e+09</td>\n",
       "    </tr>\n",
       "    <tr>\n",
       "      <th>65</th>\n",
       "      <td>B7.txt</td>\n",
       "      <td>Tesouro IGPM+ com Juros Semestrais</td>\n",
       "      <td>2017-07-01</td>\n",
       "      <td>2017-07-03</td>\n",
       "      <td>3528.852485</td>\n",
       "      <td>5698.66</td>\n",
       "      <td>2.010973e+07</td>\n",
       "    </tr>\n",
       "    <tr>\n",
       "      <th>66</th>\n",
       "      <td>B7.txt</td>\n",
       "      <td>Tesouro Prefixado</td>\n",
       "      <td>2018-01-01</td>\n",
       "      <td>2018-01-02</td>\n",
       "      <td>1000.000000</td>\n",
       "      <td>1927482.65</td>\n",
       "      <td>1.927483e+09</td>\n",
       "    </tr>\n",
       "    <tr>\n",
       "      <th>67</th>\n",
       "      <td>B7.txt</td>\n",
       "      <td>Tesouro Prefixado</td>\n",
       "      <td>2019-01-01</td>\n",
       "      <td>2019-01-02</td>\n",
       "      <td>1000.000000</td>\n",
       "      <td>976836.79</td>\n",
       "      <td>9.768368e+08</td>\n",
       "    </tr>\n",
       "    <tr>\n",
       "      <th>68</th>\n",
       "      <td>B7.txt</td>\n",
       "      <td>Tesouro Prefixado</td>\n",
       "      <td>2005-01-04</td>\n",
       "      <td>2005-01-04</td>\n",
       "      <td>1000.000000</td>\n",
       "      <td>24714.00</td>\n",
       "      <td>2.471400e+07</td>\n",
       "    </tr>\n",
       "  </tbody>\n",
       "</table>\n",
       "<p>69 rows × 7 columns</p>\n",
       "</div>"
      ],
      "text/plain": [
       "   Nome da Origem                         Tipo Titulo Vencimento do Titulo  \\\n",
       "0          B7.txt                       Tesouro Selic           2005-02-16   \n",
       "1          B7.txt  Tesouro IGPM+ com Juros Semestrais           2005-12-01   \n",
       "2          B7.txt                   Tesouro Prefixado           2005-10-01   \n",
       "3          B7.txt  Tesouro IGPM+ com Juros Semestrais           2005-07-01   \n",
       "4          B7.txt                   Tesouro Prefixado           2005-07-01   \n",
       "..            ...                                 ...                  ...   \n",
       "64         B7.txt                   Tesouro Prefixado           2017-01-01   \n",
       "65         B7.txt  Tesouro IGPM+ com Juros Semestrais           2017-07-01   \n",
       "66         B7.txt                   Tesouro Prefixado           2018-01-01   \n",
       "67         B7.txt                   Tesouro Prefixado           2019-01-01   \n",
       "68         B7.txt                   Tesouro Prefixado           2005-01-04   \n",
       "\n",
       "   Data Resgate           PU  Quantidade         Valor  \n",
       "0    2005-02-16  2205.900143     8632.40  1.904221e+07  \n",
       "1    2005-12-01  1823.358458    40179.80  7.326218e+07  \n",
       "2    2005-10-03  1000.000000    57148.40  5.714840e+07  \n",
       "3    2005-07-01  1832.980489     1809.00  3.315862e+06  \n",
       "4    2005-07-01  1000.000000    40151.40  4.015140e+07  \n",
       "..          ...          ...         ...           ...  \n",
       "64   2017-01-02  1000.000000  1235990.48  1.235990e+09  \n",
       "65   2017-07-03  3528.852485     5698.66  2.010973e+07  \n",
       "66   2018-01-02  1000.000000  1927482.65  1.927483e+09  \n",
       "67   2019-01-02  1000.000000   976836.79  9.768368e+08  \n",
       "68   2005-01-04  1000.000000    24714.00  2.471400e+07  \n",
       "\n",
       "[69 rows x 7 columns]"
      ]
     },
     "metadata": {},
     "output_type": "display_data"
    }
   ],
   "source": [
    "base7_df = pd.read_excel('bs7.xlsx')\n",
    "\n",
    "display(base7_df)"
   ]
  },
  {
   "cell_type": "code",
   "execution_count": 4,
   "id": "080e628a",
   "metadata": {},
   "outputs": [
    {
     "name": "stdout",
     "output_type": "stream",
     "text": [
      "69\n"
     ]
    }
   ],
   "source": [
    "#Quantidade de linhas\n",
    "totalLinhas =  len(base7_df.index)\n",
    "print(totalLinhas)"
   ]
  },
  {
   "cell_type": "code",
   "execution_count": 48,
   "id": "8399ba91",
   "metadata": {},
   "outputs": [
    {
     "data": {
      "text/plain": [
       "0"
      ]
     },
     "execution_count": 48,
     "metadata": {},
     "output_type": "execute_result"
    }
   ],
   "source": [
    "totalNull = base7_df['Tipo Titulo'].isnull().sum()\n",
    "totalNull"
   ]
  },
  {
   "cell_type": "code",
   "execution_count": 6,
   "id": "256a2e6e",
   "metadata": {},
   "outputs": [
    {
     "data": {
      "text/plain": [
       "6"
      ]
     },
     "execution_count": 6,
     "metadata": {},
     "output_type": "execute_result"
    }
   ],
   "source": [
    "#Verificado os numeros distintos na colunas Tipo Titulo\n",
    "coluna_tipoTitulo = len(base7_df[\"Tipo Titulo\"].value_counts())\n",
    "coluna_tipoTitulo"
   ]
  },
  {
   "cell_type": "code",
   "execution_count": 8,
   "id": "17e7dfaa",
   "metadata": {},
   "outputs": [
    {
     "data": {
      "text/plain": [
       "58"
      ]
     },
     "execution_count": 8,
     "metadata": {},
     "output_type": "execute_result"
    }
   ],
   "source": [
    "#Verificado os numeros distintos na coluna Vencimento do Titulo\n",
    "coluna_vencTitulo = len(base7_df[\"Vencimento do Titulo\"].value_counts())\n",
    "coluna_vencTitulo"
   ]
  },
  {
   "cell_type": "code",
   "execution_count": 9,
   "id": "a5f0a926",
   "metadata": {},
   "outputs": [
    {
     "data": {
      "text/plain": [
       "58"
      ]
     },
     "execution_count": 9,
     "metadata": {},
     "output_type": "execute_result"
    }
   ],
   "source": [
    "#Verificado os numeros distintos na coluna Data Resgate\n",
    "coluna_dtResgate = len(base7_df[\"Data Resgate\"].value_counts())\n",
    "coluna_dtResgate"
   ]
  },
  {
   "cell_type": "code",
   "execution_count": 10,
   "id": "fc69eca4",
   "metadata": {},
   "outputs": [
    {
     "data": {
      "text/plain": [
       "29"
      ]
     },
     "execution_count": 10,
     "metadata": {},
     "output_type": "execute_result"
    }
   ],
   "source": [
    "#Verificado os numeros distintos na coluna PU\n",
    "coluna_PU = len(base7_df[\"PU\"].value_counts())\n",
    "coluna_PU"
   ]
  },
  {
   "cell_type": "code",
   "execution_count": 12,
   "id": "ffee3f7d",
   "metadata": {},
   "outputs": [
    {
     "data": {
      "text/plain": [
       "69"
      ]
     },
     "execution_count": 12,
     "metadata": {},
     "output_type": "execute_result"
    }
   ],
   "source": [
    "#Verificado os numeros distintos na coluna Quantidade\n",
    "coluna_quantidade = len(base7_df[\"Quantidade\"].value_counts())\n",
    "coluna_quantidade"
   ]
  },
  {
   "cell_type": "code",
   "execution_count": 13,
   "id": "e19e372e",
   "metadata": {},
   "outputs": [
    {
     "data": {
      "text/plain": [
       "69"
      ]
     },
     "execution_count": 13,
     "metadata": {},
     "output_type": "execute_result"
    }
   ],
   "source": [
    "#Verificado os numeros distintos na coluna Valor\n",
    "coluna_valor = len(base7_df[\"Valor\"].value_counts())\n",
    "coluna_valor"
   ]
  },
  {
   "cell_type": "code",
   "execution_count": 66,
   "id": "08ee2ec5",
   "metadata": {},
   "outputs": [
    {
     "data": {
      "text/plain": [
       "0.0008695652173913043"
      ]
     },
     "execution_count": 66,
     "metadata": {},
     "output_type": "execute_result"
    }
   ],
   "source": [
    "#Calculando Uniqueness\n",
    "#Tipo Titulo\n",
    "\n",
    "porcnt_tipoTitulo = coluna_tipoTitulo/totalLinhas\n",
    "porcnt_tipoTitulo = porcnt_tipoTitulo / 100\n",
    "porcnt_tipoTitulo"
   ]
  },
  {
   "cell_type": "code",
   "execution_count": 65,
   "id": "db1f1511",
   "metadata": {},
   "outputs": [
    {
     "data": {
      "text/plain": [
       "0.008405797101449276"
      ]
     },
     "execution_count": 65,
     "metadata": {},
     "output_type": "execute_result"
    }
   ],
   "source": [
    "#Calculando Uniqueness\n",
    "#VecimentoTitulo\n",
    "\n",
    "porcnt_vencTitulo = coluna_vencTitulo/totalLinhas\n",
    "porcnt_vencTitulo =  porcnt_vencTitulo / 100\n",
    "porcnt_vencTitulo"
   ]
  },
  {
   "cell_type": "code",
   "execution_count": 64,
   "id": "ee69b6a2",
   "metadata": {},
   "outputs": [
    {
     "data": {
      "text/plain": [
       "0.008405797101449276"
      ]
     },
     "execution_count": 64,
     "metadata": {},
     "output_type": "execute_result"
    }
   ],
   "source": [
    "#Calculando Uniqueness\n",
    "#Data Resgate\n",
    "\n",
    "porcnt_dtResgate = coluna_dtResgate/totalLinhas\n",
    "porcnt_dtResgate = porcnt_dtResgate / 100\n",
    "porcnt_dtResgate"
   ]
  },
  {
   "cell_type": "code",
   "execution_count": 62,
   "id": "9bbe3ece",
   "metadata": {},
   "outputs": [
    {
     "data": {
      "text/plain": [
       "0.004202898550724638"
      ]
     },
     "execution_count": 62,
     "metadata": {},
     "output_type": "execute_result"
    }
   ],
   "source": [
    "#Calculando Uniqueness\n",
    "#PU\n",
    "\n",
    "porcnt_PU = coluna_PU/totalLinhas\n",
    "porcnt_PU = porcnt_PU / 100\n",
    "porcnt_PU"
   ]
  },
  {
   "cell_type": "code",
   "execution_count": 63,
   "id": "f1ec5bf5",
   "metadata": {},
   "outputs": [
    {
     "data": {
      "text/plain": [
       "0.01"
      ]
     },
     "execution_count": 63,
     "metadata": {},
     "output_type": "execute_result"
    }
   ],
   "source": [
    "#Calculando Uniqueness\n",
    "#Quantidade\n",
    "\n",
    "porcnt_quantidade = coluna_quantidade/totalLinhas\n",
    "porcnt_quantidade = porcnt_quantidade / 100\n",
    "porcnt_quantidade"
   ]
  },
  {
   "cell_type": "code",
   "execution_count": 56,
   "id": "3c3b8a68",
   "metadata": {},
   "outputs": [
    {
     "data": {
      "text/plain": [
       "100.0"
      ]
     },
     "execution_count": 56,
     "metadata": {},
     "output_type": "execute_result"
    }
   ],
   "source": [
    "#Calculando Uniqueness\n",
    "#Valor\n",
    "\n",
    "porcnt_valor = coluna_valor/totalLinhas\n",
    "porcnt_valor = porcnt_valor * 100\n",
    "porcnt_valor"
   ]
  },
  {
   "cell_type": "code",
   "execution_count": 24,
   "id": "ade6bd1f",
   "metadata": {},
   "outputs": [
    {
     "data": {
      "text/plain": [
       "0"
      ]
     },
     "execution_count": 24,
     "metadata": {},
     "output_type": "execute_result"
    }
   ],
   "source": [
    "#Calculando NULLs\n",
    "\n",
    "numerosNullos = base7_df[\"Tipo Titulo\"].isnull().sum()\n",
    "numerosNullos"
   ]
  },
  {
   "cell_type": "code",
   "execution_count": 27,
   "id": "d685c91f",
   "metadata": {},
   "outputs": [
    {
     "data": {
      "text/plain": [
       "'Tesouro IGPM+ com Juros Semestrais'"
      ]
     },
     "execution_count": 27,
     "metadata": {},
     "output_type": "execute_result"
    }
   ],
   "source": [
    "#verificando o minimo\n",
    "#Tipo Titulo\n",
    "min_TipoTitulo = base7_df[\"Tipo Titulo\"].min()\n",
    "min_TipoTitulo"
   ]
  },
  {
   "cell_type": "code",
   "execution_count": 29,
   "id": "fe59626c",
   "metadata": {},
   "outputs": [
    {
     "data": {
      "text/plain": [
       "Timestamp('2005-01-04 00:00:00')"
      ]
     },
     "execution_count": 29,
     "metadata": {},
     "output_type": "execute_result"
    }
   ],
   "source": [
    "#verificando o minimo\n",
    "#Vencimento do Titulo\n",
    "min_vencTitulo = base7_df[\"Vencimento do Titulo\"].min()\n",
    "min_vencTitulo"
   ]
  },
  {
   "cell_type": "code",
   "execution_count": 30,
   "id": "89753946",
   "metadata": {},
   "outputs": [
    {
     "data": {
      "text/plain": [
       "Timestamp('2005-01-04 00:00:00')"
      ]
     },
     "execution_count": 30,
     "metadata": {},
     "output_type": "execute_result"
    }
   ],
   "source": [
    "#verificando o minimo\n",
    "#Vencimento do Titulo\n",
    "min_dtResgate = base7_df[\"Data Resgate\"].min()\n",
    "min_dtResgate"
   ]
  },
  {
   "cell_type": "code",
   "execution_count": 31,
   "id": "1043034d",
   "metadata": {},
   "outputs": [
    {
     "data": {
      "text/plain": [
       "1000.0"
      ]
     },
     "execution_count": 31,
     "metadata": {},
     "output_type": "execute_result"
    }
   ],
   "source": [
    "#verificando o minimo\n",
    "#PU\n",
    "min_PU = base7_df[\"PU\"].min()\n",
    "min_PU"
   ]
  },
  {
   "cell_type": "code",
   "execution_count": 32,
   "id": "3000fc58",
   "metadata": {},
   "outputs": [
    {
     "data": {
      "text/plain": [
       "106.2"
      ]
     },
     "execution_count": 32,
     "metadata": {},
     "output_type": "execute_result"
    }
   ],
   "source": [
    "#verificando o minimo\n",
    "#quantidade\n",
    "min_quantidade = base7_df[\"Quantidade\"].min()\n",
    "min_quantidade"
   ]
  },
  {
   "cell_type": "code",
   "execution_count": 33,
   "id": "96cb3300",
   "metadata": {},
   "outputs": [
    {
     "data": {
      "text/plain": [
       "200410.48"
      ]
     },
     "execution_count": 33,
     "metadata": {},
     "output_type": "execute_result"
    }
   ],
   "source": [
    "#verificando o minimo\n",
    "#valor\n",
    "min_valor = base7_df[\"Valor\"].min()\n",
    "min_valor"
   ]
  },
  {
   "cell_type": "code",
   "execution_count": 37,
   "id": "b83d44af",
   "metadata": {},
   "outputs": [
    {
     "data": {
      "text/plain": [
       "'Tesouro Selic'"
      ]
     },
     "execution_count": 37,
     "metadata": {},
     "output_type": "execute_result"
    }
   ],
   "source": [
    "#verificando o maximo\n",
    "#Tipo Titulo\n",
    "max_TipoTitulo = base7_df[\"Tipo Titulo\"].max()\n",
    "max_TipoTitulo"
   ]
  },
  {
   "cell_type": "code",
   "execution_count": 38,
   "id": "ccf2950a",
   "metadata": {},
   "outputs": [
    {
     "data": {
      "text/plain": [
       "Timestamp('2019-01-01 00:00:00')"
      ]
     },
     "execution_count": 38,
     "metadata": {},
     "output_type": "execute_result"
    }
   ],
   "source": [
    "#verificando o maximo\n",
    "#Vencimento do titulo\n",
    "max_vencTitulo = base7_df[\"Vencimento do Titulo\"].max()\n",
    "max_vencTitulo"
   ]
  },
  {
   "cell_type": "code",
   "execution_count": 39,
   "id": "fb51ae31",
   "metadata": {},
   "outputs": [
    {
     "data": {
      "text/plain": [
       "Timestamp('2019-01-02 00:00:00')"
      ]
     },
     "execution_count": 39,
     "metadata": {},
     "output_type": "execute_result"
    }
   ],
   "source": [
    "#verificando o maximo\n",
    "#Vencimento do titulo\n",
    "max_dtResgate = base7_df[\"Data Resgate\"].max()\n",
    "max_dtResgate"
   ]
  },
  {
   "cell_type": "code",
   "execution_count": 40,
   "id": "6171d20a",
   "metadata": {},
   "outputs": [
    {
     "data": {
      "text/plain": [
       "8627.689303"
      ]
     },
     "execution_count": 40,
     "metadata": {},
     "output_type": "execute_result"
    }
   ],
   "source": [
    "#verificando o maximo\n",
    "#PU\n",
    "max_PU = base7_df[\"PU\"].max()\n",
    "max_PU"
   ]
  },
  {
   "cell_type": "code",
   "execution_count": 41,
   "id": "a1a882b7",
   "metadata": {},
   "outputs": [
    {
     "data": {
      "text/plain": [
       "1927482.65"
      ]
     },
     "execution_count": 41,
     "metadata": {},
     "output_type": "execute_result"
    }
   ],
   "source": [
    "#verificando o maximo\n",
    "#Quantidade\n",
    "max_quantidade = base7_df[\"Quantidade\"].max()\n",
    "max_quantidade"
   ]
  },
  {
   "cell_type": "code",
   "execution_count": 42,
   "id": "fa94b012",
   "metadata": {},
   "outputs": [
    {
     "data": {
      "text/plain": [
       "2059408998.0"
      ]
     },
     "execution_count": 42,
     "metadata": {},
     "output_type": "execute_result"
    }
   ],
   "source": [
    "#verificando o maximo\n",
    "#Valor\n",
    "max_valor = base7_df[\"Valor\"].max()\n",
    "max_valor"
   ]
  },
  {
   "cell_type": "code",
   "execution_count": 108,
   "id": "8c190182",
   "metadata": {},
   "outputs": [
    {
     "data": {
      "text/plain": [
       "'Tesouro SelicTesouro IGPM+ com Juros SemestraisTesouro PrefixadoTesouro IGPM+ com Juros SemestraisTesouro PrefixadoTesouro PrefixadoTesouro IPCA+ com Juros SemestraisTesouro PrefixadoTesouro PrefixadoTesouro SelicTesouro PrefixadoTesouro PrefixadoTesouro IPCA+ com Juros SemestraisTesouro IGPM+ com Juros SemestraisTesouro PrefixadoTesouro PrefixadoTesouro SelicTesouro PrefixadoTesouro Prefixado com Juros SemestraisTesouro PrefixadoTesouro PrefixadoTesouro IPCA+ com Juros SemestraisTesouro PrefixadoTesouro PrefixadoTesouro PrefixadoTesouro IGPM+ com Juros SemestraisTesouro SelicTesouro PrefixadoTesouro PrefixadoTesouro IPCA+ com Juros SemestraisTesouro SelicTesouro PrefixadoTesouro SelicTesouro Prefixado com Juros SemestraisTesouro PrefixadoTesouro PrefixadoTesouro IPCA+ com Juros SemestraisTesouro SelicTesouro IGPM+ com Juros SemestraisTesouro PrefixadoTesouro Prefixado com Juros SemestraisTesouro Prefixado com Juros SemestraisTesouro PrefixadoTesouro IPCA+ com Juros SemestraisTesouro SelicTesouro Prefixado com Juros SemestraisTesouro PrefixadoTesouro PrefixadoTesouro IPCA+ com Juros SemestraisTesouro SelicTesouro PrefixadoTesouro Prefixado com Juros SemestraisTesouro IPCA+ com Juros SemestraisTesouro Prefixado com Juros SemestraisTesouro PrefixadoTesouro SelicTesouro IPCA+Tesouro IPCA+ com Juros SemestraisTesouro SelicTesouro PrefixadoTesouro PrefixadoTesouro IPCA+ com Juros SemestraisTesouro SelicTesouro Prefixado com Juros SemestraisTesouro PrefixadoTesouro IGPM+ com Juros SemestraisTesouro PrefixadoTesouro PrefixadoTesouro Prefixado'"
      ]
     },
     "execution_count": 108,
     "metadata": {},
     "output_type": "execute_result"
    }
   ],
   "source": [
    "#Soma\n",
    "#\n",
    "\n",
    "tipoTitulo_sum = base7_df[\"Tipo Titulo\"].sum()\n",
    "tipoTitulo_sum"
   ]
  },
  {
   "cell_type": "code",
   "execution_count": 122,
   "id": "de0380de",
   "metadata": {},
   "outputs": [
    {
     "data": {
      "text/plain": [
       "132923.15459"
      ]
     },
     "execution_count": 122,
     "metadata": {},
     "output_type": "execute_result"
    }
   ],
   "source": [
    "#Soma\n",
    "#PU\n",
    "\n",
    "pu_sum = base7_df[\"PU\"].sum()\n",
    "pu_sum"
   ]
  },
  {
   "cell_type": "code",
   "execution_count": 112,
   "id": "eb332e05",
   "metadata": {},
   "outputs": [
    {
     "data": {
      "text/plain": [
       "11251085.8"
      ]
     },
     "execution_count": 112,
     "metadata": {},
     "output_type": "execute_result"
    }
   ],
   "source": [
    "#Soma\n",
    "#Quantidade\n",
    "\n",
    "quantidade_sum = base7_df[\"Quantidade\"].sum()\n",
    "quantidade_sum"
   ]
  },
  {
   "cell_type": "code",
   "execution_count": 113,
   "id": "bb0f5861",
   "metadata": {},
   "outputs": [
    {
     "data": {
      "text/plain": [
       "15779372442.58"
      ]
     },
     "execution_count": 113,
     "metadata": {},
     "output_type": "execute_result"
    }
   ],
   "source": [
    "#Soma\n",
    "#Valor\n",
    "\n",
    "valor_sum = base7_df[\"Valor\"].sum()\n",
    "valor_sum"
   ]
  },
  {
   "cell_type": "code",
   "execution_count": null,
   "id": "a002abe3",
   "metadata": {},
   "outputs": [],
   "source": []
  },
  {
   "cell_type": "code",
   "execution_count": null,
   "id": "006f0bf7",
   "metadata": {},
   "outputs": [],
   "source": []
  },
  {
   "cell_type": "code",
   "execution_count": null,
   "id": "27708e5e",
   "metadata": {},
   "outputs": [],
   "source": []
  },
  {
   "cell_type": "code",
   "execution_count": 130,
   "id": "b7e40e45",
   "metadata": {},
   "outputs": [
    {
     "data": {
      "text/html": [
       "<div>\n",
       "<style scoped>\n",
       "    .dataframe tbody tr th:only-of-type {\n",
       "        vertical-align: middle;\n",
       "    }\n",
       "\n",
       "    .dataframe tbody tr th {\n",
       "        vertical-align: top;\n",
       "    }\n",
       "\n",
       "    .dataframe thead th {\n",
       "        text-align: right;\n",
       "    }\n",
       "</style>\n",
       "<table border=\"1\" class=\"dataframe\">\n",
       "  <thead>\n",
       "    <tr style=\"text-align: right;\">\n",
       "      <th></th>\n",
       "      <th>NomeVar</th>\n",
       "      <th>Row Count</th>\n",
       "      <th>Uniqueness</th>\n",
       "      <th>Unique count</th>\n",
       "      <th>Qtd Nullos</th>\n",
       "      <th>Minimum</th>\n",
       "      <th>Maximum</th>\n",
       "    </tr>\n",
       "  </thead>\n",
       "  <tbody>\n",
       "    <tr>\n",
       "      <th>0</th>\n",
       "      <td>Tipo Titulo</td>\n",
       "      <td>69</td>\n",
       "      <td>0.00087</td>\n",
       "      <td>6</td>\n",
       "      <td>0</td>\n",
       "      <td>Tesouro IGPM+ com Juros Semestrais</td>\n",
       "      <td>Tesouro Selic</td>\n",
       "    </tr>\n",
       "  </tbody>\n",
       "</table>\n",
       "</div>"
      ],
      "text/plain": [
       "       NomeVar  Row Count  Uniqueness  Unique count  Qtd Nullos  \\\n",
       "0  Tipo Titulo         69     0.00087             6           0   \n",
       "\n",
       "                              Minimum        Maximum  \n",
       "0  Tesouro IGPM+ com Juros Semestrais  Tesouro Selic  "
      ]
     },
     "metadata": {},
     "output_type": "display_data"
    }
   ],
   "source": [
    "#Criando o DataFrame \n",
    "\n",
    "profile = pd.DataFrame([['Tipo Titulo', totalLinhas, porcnt_tipoTitulo, coluna_tipoTitulo, totalNull,min_TipoTitulo, max_TipoTitulo ]]\n",
    "                      ,columns=['NomeVar', 'Row Count', 'Uniqueness','Unique count', 'Qtd Nullos','Minimum','Maximum'])\n",
    "\n",
    "display(profile)"
   ]
  },
  {
   "cell_type": "code",
   "execution_count": 131,
   "id": "bc6439be",
   "metadata": {},
   "outputs": [
    {
     "data": {
      "text/html": [
       "<div>\n",
       "<style scoped>\n",
       "    .dataframe tbody tr th:only-of-type {\n",
       "        vertical-align: middle;\n",
       "    }\n",
       "\n",
       "    .dataframe tbody tr th {\n",
       "        vertical-align: top;\n",
       "    }\n",
       "\n",
       "    .dataframe thead th {\n",
       "        text-align: right;\n",
       "    }\n",
       "</style>\n",
       "<table border=\"1\" class=\"dataframe\">\n",
       "  <thead>\n",
       "    <tr style=\"text-align: right;\">\n",
       "      <th></th>\n",
       "      <th>NomeVar</th>\n",
       "      <th>Row Count</th>\n",
       "      <th>Uniqueness</th>\n",
       "      <th>Unique count</th>\n",
       "      <th>Qtd Nullos</th>\n",
       "      <th>Minimum</th>\n",
       "      <th>Maximum</th>\n",
       "    </tr>\n",
       "  </thead>\n",
       "  <tbody>\n",
       "    <tr>\n",
       "      <th>0</th>\n",
       "      <td>Vencimento do Titulo</td>\n",
       "      <td>69</td>\n",
       "      <td>0.008406</td>\n",
       "      <td>58</td>\n",
       "      <td>0</td>\n",
       "      <td>2005-01-04</td>\n",
       "      <td>2019-01-01</td>\n",
       "    </tr>\n",
       "  </tbody>\n",
       "</table>\n",
       "</div>"
      ],
      "text/plain": [
       "                NomeVar  Row Count  Uniqueness  Unique count  Qtd Nullos  \\\n",
       "0  Vencimento do Titulo         69    0.008406            58           0   \n",
       "\n",
       "     Minimum    Maximum  \n",
       "0 2005-01-04 2019-01-01  "
      ]
     },
     "metadata": {},
     "output_type": "display_data"
    }
   ],
   "source": [
    " #Criando o DataFrame \n",
    "\n",
    "profile2 = pd.DataFrame([['Vencimento do Titulo', totalLinhas, porcnt_vencTitulo, coluna_vencTitulo, totalNull, min_vencTitulo,max_vencTitulo ]]\n",
    "                      ,columns=['NomeVar', 'Row Count', 'Uniqueness','Unique count', 'Qtd Nullos','Minimum','Maximum'])\n",
    "\n",
    "display(profile2)                         "
   ]
  },
  {
   "cell_type": "code",
   "execution_count": 132,
   "id": "b1d70c40",
   "metadata": {},
   "outputs": [
    {
     "data": {
      "text/html": [
       "<div>\n",
       "<style scoped>\n",
       "    .dataframe tbody tr th:only-of-type {\n",
       "        vertical-align: middle;\n",
       "    }\n",
       "\n",
       "    .dataframe tbody tr th {\n",
       "        vertical-align: top;\n",
       "    }\n",
       "\n",
       "    .dataframe thead th {\n",
       "        text-align: right;\n",
       "    }\n",
       "</style>\n",
       "<table border=\"1\" class=\"dataframe\">\n",
       "  <thead>\n",
       "    <tr style=\"text-align: right;\">\n",
       "      <th></th>\n",
       "      <th>NomeVar</th>\n",
       "      <th>Row Count</th>\n",
       "      <th>Uniqueness</th>\n",
       "      <th>Unique count</th>\n",
       "      <th>Qtd Nullos</th>\n",
       "      <th>Minimum</th>\n",
       "      <th>Maximum</th>\n",
       "    </tr>\n",
       "  </thead>\n",
       "  <tbody>\n",
       "    <tr>\n",
       "      <th>0</th>\n",
       "      <td>Tipo Titulo</td>\n",
       "      <td>69</td>\n",
       "      <td>0.000870</td>\n",
       "      <td>6</td>\n",
       "      <td>0</td>\n",
       "      <td>Tesouro IGPM+ com Juros Semestrais</td>\n",
       "      <td>Tesouro Selic</td>\n",
       "    </tr>\n",
       "    <tr>\n",
       "      <th>0</th>\n",
       "      <td>Vencimento do Titulo</td>\n",
       "      <td>69</td>\n",
       "      <td>0.008406</td>\n",
       "      <td>58</td>\n",
       "      <td>0</td>\n",
       "      <td>2005-01-04 00:00:00</td>\n",
       "      <td>2019-01-01 00:00:00</td>\n",
       "    </tr>\n",
       "  </tbody>\n",
       "</table>\n",
       "</div>"
      ],
      "text/plain": [
       "                NomeVar  Row Count  Uniqueness  Unique count  Qtd Nullos  \\\n",
       "0           Tipo Titulo         69    0.000870             6           0   \n",
       "0  Vencimento do Titulo         69    0.008406            58           0   \n",
       "\n",
       "                              Minimum              Maximum  \n",
       "0  Tesouro IGPM+ com Juros Semestrais        Tesouro Selic  \n",
       "0                 2005-01-04 00:00:00  2019-01-01 00:00:00  "
      ]
     },
     "metadata": {},
     "output_type": "display_data"
    }
   ],
   "source": [
    "profile = profile.append(profile2)\n",
    "display(profile)"
   ]
  },
  {
   "cell_type": "code",
   "execution_count": 133,
   "id": "936db8cb",
   "metadata": {},
   "outputs": [
    {
     "data": {
      "text/html": [
       "<div>\n",
       "<style scoped>\n",
       "    .dataframe tbody tr th:only-of-type {\n",
       "        vertical-align: middle;\n",
       "    }\n",
       "\n",
       "    .dataframe tbody tr th {\n",
       "        vertical-align: top;\n",
       "    }\n",
       "\n",
       "    .dataframe thead th {\n",
       "        text-align: right;\n",
       "    }\n",
       "</style>\n",
       "<table border=\"1\" class=\"dataframe\">\n",
       "  <thead>\n",
       "    <tr style=\"text-align: right;\">\n",
       "      <th></th>\n",
       "      <th>NomeVar</th>\n",
       "      <th>Row Count</th>\n",
       "      <th>Uniqueness</th>\n",
       "      <th>Unique count</th>\n",
       "      <th>Qtd Nullos</th>\n",
       "      <th>Minimum</th>\n",
       "      <th>Maximum</th>\n",
       "    </tr>\n",
       "  </thead>\n",
       "  <tbody>\n",
       "    <tr>\n",
       "      <th>0</th>\n",
       "      <td>Data Resgate</td>\n",
       "      <td>69</td>\n",
       "      <td>0.008406</td>\n",
       "      <td>58</td>\n",
       "      <td>0</td>\n",
       "      <td>2005-01-04</td>\n",
       "      <td>2019-01-02</td>\n",
       "    </tr>\n",
       "  </tbody>\n",
       "</table>\n",
       "</div>"
      ],
      "text/plain": [
       "        NomeVar  Row Count  Uniqueness  Unique count  Qtd Nullos    Minimum  \\\n",
       "0  Data Resgate         69    0.008406            58           0 2005-01-04   \n",
       "\n",
       "     Maximum  \n",
       "0 2019-01-02  "
      ]
     },
     "metadata": {},
     "output_type": "display_data"
    }
   ],
   "source": [
    "profile3 = pd.DataFrame([['Data Resgate', totalLinhas, porcnt_dtResgate, coluna_dtResgate, totalNull, min_dtResgate,max_dtResgate ]]\n",
    "                      ,columns=['NomeVar', 'Row Count', 'Uniqueness','Unique count', 'Qtd Nullos','Minimum','Maximum'])\n",
    "\n",
    "display(profile3) "
   ]
  },
  {
   "cell_type": "code",
   "execution_count": 118,
   "id": "3d421508",
   "metadata": {},
   "outputs": [
    {
     "data": {
      "text/html": [
       "<div>\n",
       "<style scoped>\n",
       "    .dataframe tbody tr th:only-of-type {\n",
       "        vertical-align: middle;\n",
       "    }\n",
       "\n",
       "    .dataframe tbody tr th {\n",
       "        vertical-align: top;\n",
       "    }\n",
       "\n",
       "    .dataframe thead th {\n",
       "        text-align: right;\n",
       "    }\n",
       "</style>\n",
       "<table border=\"1\" class=\"dataframe\">\n",
       "  <thead>\n",
       "    <tr style=\"text-align: right;\">\n",
       "      <th></th>\n",
       "      <th>NomeVar</th>\n",
       "      <th>Row Count</th>\n",
       "      <th>Uniqueness</th>\n",
       "      <th>Unique count</th>\n",
       "      <th>Qtd Nullos</th>\n",
       "      <th>Minimum</th>\n",
       "      <th>Maximum</th>\n",
       "    </tr>\n",
       "  </thead>\n",
       "  <tbody>\n",
       "    <tr>\n",
       "      <th>0</th>\n",
       "      <td>Tipo Titulo</td>\n",
       "      <td>69</td>\n",
       "      <td>0.000870</td>\n",
       "      <td>6</td>\n",
       "      <td>0</td>\n",
       "      <td>Tesouro IGPM+ com Juros Semestrais</td>\n",
       "      <td>Tesouro Selic</td>\n",
       "    </tr>\n",
       "    <tr>\n",
       "      <th>0</th>\n",
       "      <td>Vencimento do Titulo</td>\n",
       "      <td>69</td>\n",
       "      <td>0.008406</td>\n",
       "      <td>58</td>\n",
       "      <td>0</td>\n",
       "      <td>2005-01-04 00:00:00</td>\n",
       "      <td>2019-01-01 00:00:00</td>\n",
       "    </tr>\n",
       "    <tr>\n",
       "      <th>0</th>\n",
       "      <td>Data Resgate</td>\n",
       "      <td>69</td>\n",
       "      <td>0.008406</td>\n",
       "      <td>58</td>\n",
       "      <td>0</td>\n",
       "      <td>2005-01-04 00:00:00</td>\n",
       "      <td>2019-01-02 00:00:00</td>\n",
       "    </tr>\n",
       "  </tbody>\n",
       "</table>\n",
       "</div>"
      ],
      "text/plain": [
       "                NomeVar  Row Count  Uniqueness  Unique count  Qtd Nullos  \\\n",
       "0           Tipo Titulo         69    0.000870             6           0   \n",
       "0  Vencimento do Titulo         69    0.008406            58           0   \n",
       "0          Data Resgate         69    0.008406            58           0   \n",
       "\n",
       "                              Minimum              Maximum  \n",
       "0  Tesouro IGPM+ com Juros Semestrais        Tesouro Selic  \n",
       "0                 2005-01-04 00:00:00  2019-01-01 00:00:00  \n",
       "0                 2005-01-04 00:00:00  2019-01-02 00:00:00  "
      ]
     },
     "metadata": {},
     "output_type": "display_data"
    }
   ],
   "source": [
    "profile = profile.append(profile3)\n",
    "display(profile)"
   ]
  },
  {
   "cell_type": "code",
   "execution_count": 134,
   "id": "4cfe3b5d",
   "metadata": {},
   "outputs": [
    {
     "data": {
      "text/html": [
       "<div>\n",
       "<style scoped>\n",
       "    .dataframe tbody tr th:only-of-type {\n",
       "        vertical-align: middle;\n",
       "    }\n",
       "\n",
       "    .dataframe tbody tr th {\n",
       "        vertical-align: top;\n",
       "    }\n",
       "\n",
       "    .dataframe thead th {\n",
       "        text-align: right;\n",
       "    }\n",
       "</style>\n",
       "<table border=\"1\" class=\"dataframe\">\n",
       "  <thead>\n",
       "    <tr style=\"text-align: right;\">\n",
       "      <th></th>\n",
       "      <th>NomeVar</th>\n",
       "      <th>Row Count</th>\n",
       "      <th>Uniqueness</th>\n",
       "      <th>Unique count</th>\n",
       "      <th>Qtd Nullos</th>\n",
       "      <th>Minimum</th>\n",
       "      <th>Maximum</th>\n",
       "      <th>Sum</th>\n",
       "    </tr>\n",
       "  </thead>\n",
       "  <tbody>\n",
       "    <tr>\n",
       "      <th>0</th>\n",
       "      <td>PU</td>\n",
       "      <td>69</td>\n",
       "      <td>0.004203</td>\n",
       "      <td>29</td>\n",
       "      <td>0</td>\n",
       "      <td>1000.0</td>\n",
       "      <td>8627.689303</td>\n",
       "      <td>132923.15459</td>\n",
       "    </tr>\n",
       "  </tbody>\n",
       "</table>\n",
       "</div>"
      ],
      "text/plain": [
       "  NomeVar  Row Count  Uniqueness  Unique count  Qtd Nullos  Minimum  \\\n",
       "0      PU         69    0.004203            29           0   1000.0   \n",
       "\n",
       "       Maximum           Sum  \n",
       "0  8627.689303  132923.15459  "
      ]
     },
     "metadata": {},
     "output_type": "display_data"
    }
   ],
   "source": [
    "profile4 = pd.DataFrame([['PU', totalLinhas, porcnt_PU, coluna_PU, totalNull, min_PU,max_PU, pu_sum ]]\n",
    "                      ,columns=['NomeVar', 'Row Count', 'Uniqueness','Unique count', 'Qtd Nullos','Minimum','Maximum', 'Sum'])\n",
    "\n",
    "display(profile4) "
   ]
  },
  {
   "cell_type": "code",
   "execution_count": 135,
   "id": "c5811b94",
   "metadata": {},
   "outputs": [
    {
     "data": {
      "text/html": [
       "<div>\n",
       "<style scoped>\n",
       "    .dataframe tbody tr th:only-of-type {\n",
       "        vertical-align: middle;\n",
       "    }\n",
       "\n",
       "    .dataframe tbody tr th {\n",
       "        vertical-align: top;\n",
       "    }\n",
       "\n",
       "    .dataframe thead th {\n",
       "        text-align: right;\n",
       "    }\n",
       "</style>\n",
       "<table border=\"1\" class=\"dataframe\">\n",
       "  <thead>\n",
       "    <tr style=\"text-align: right;\">\n",
       "      <th></th>\n",
       "      <th>NomeVar</th>\n",
       "      <th>Row Count</th>\n",
       "      <th>Uniqueness</th>\n",
       "      <th>Unique count</th>\n",
       "      <th>Qtd Nullos</th>\n",
       "      <th>Minimum</th>\n",
       "      <th>Maximum</th>\n",
       "      <th>Sum</th>\n",
       "    </tr>\n",
       "  </thead>\n",
       "  <tbody>\n",
       "    <tr>\n",
       "      <th>0</th>\n",
       "      <td>Tipo Titulo</td>\n",
       "      <td>69</td>\n",
       "      <td>0.000870</td>\n",
       "      <td>6</td>\n",
       "      <td>0</td>\n",
       "      <td>Tesouro IGPM+ com Juros Semestrais</td>\n",
       "      <td>Tesouro Selic</td>\n",
       "      <td>NaN</td>\n",
       "    </tr>\n",
       "    <tr>\n",
       "      <th>0</th>\n",
       "      <td>Vencimento do Titulo</td>\n",
       "      <td>69</td>\n",
       "      <td>0.008406</td>\n",
       "      <td>58</td>\n",
       "      <td>0</td>\n",
       "      <td>2005-01-04 00:00:00</td>\n",
       "      <td>2019-01-01 00:00:00</td>\n",
       "      <td>NaN</td>\n",
       "    </tr>\n",
       "    <tr>\n",
       "      <th>0</th>\n",
       "      <td>PU</td>\n",
       "      <td>69</td>\n",
       "      <td>0.004203</td>\n",
       "      <td>29</td>\n",
       "      <td>0</td>\n",
       "      <td>1000.0</td>\n",
       "      <td>8627.689303</td>\n",
       "      <td>132923.15459</td>\n",
       "    </tr>\n",
       "  </tbody>\n",
       "</table>\n",
       "</div>"
      ],
      "text/plain": [
       "                NomeVar  Row Count  Uniqueness  Unique count  Qtd Nullos  \\\n",
       "0           Tipo Titulo         69    0.000870             6           0   \n",
       "0  Vencimento do Titulo         69    0.008406            58           0   \n",
       "0                    PU         69    0.004203            29           0   \n",
       "\n",
       "                              Minimum              Maximum           Sum  \n",
       "0  Tesouro IGPM+ com Juros Semestrais        Tesouro Selic           NaN  \n",
       "0                 2005-01-04 00:00:00  2019-01-01 00:00:00           NaN  \n",
       "0                              1000.0          8627.689303  132923.15459  "
      ]
     },
     "metadata": {},
     "output_type": "display_data"
    }
   ],
   "source": [
    "profile = profile.append(profile4)\n",
    "display(profile)"
   ]
  },
  {
   "cell_type": "code",
   "execution_count": 125,
   "id": "7d28bb98",
   "metadata": {},
   "outputs": [
    {
     "data": {
      "text/html": [
       "<div>\n",
       "<style scoped>\n",
       "    .dataframe tbody tr th:only-of-type {\n",
       "        vertical-align: middle;\n",
       "    }\n",
       "\n",
       "    .dataframe tbody tr th {\n",
       "        vertical-align: top;\n",
       "    }\n",
       "\n",
       "    .dataframe thead th {\n",
       "        text-align: right;\n",
       "    }\n",
       "</style>\n",
       "<table border=\"1\" class=\"dataframe\">\n",
       "  <thead>\n",
       "    <tr style=\"text-align: right;\">\n",
       "      <th></th>\n",
       "      <th>NomeVar</th>\n",
       "      <th>Row Count</th>\n",
       "      <th>Uniqueness</th>\n",
       "      <th>Unique count</th>\n",
       "      <th>Qtd Nullos</th>\n",
       "      <th>Minimum</th>\n",
       "      <th>Maximum</th>\n",
       "      <th>Sum</th>\n",
       "    </tr>\n",
       "  </thead>\n",
       "  <tbody>\n",
       "    <tr>\n",
       "      <th>0</th>\n",
       "      <td>Quantidade</td>\n",
       "      <td>69</td>\n",
       "      <td>0.01</td>\n",
       "      <td>69</td>\n",
       "      <td>0</td>\n",
       "      <td>106.2</td>\n",
       "      <td>1927482.65</td>\n",
       "      <td>11251085.8</td>\n",
       "    </tr>\n",
       "  </tbody>\n",
       "</table>\n",
       "</div>"
      ],
      "text/plain": [
       "      NomeVar  Row Count  Uniqueness  Unique count  Qtd Nullos  Minimum  \\\n",
       "0  Quantidade         69        0.01            69           0    106.2   \n",
       "\n",
       "      Maximum         Sum  \n",
       "0  1927482.65  11251085.8  "
      ]
     },
     "metadata": {},
     "output_type": "display_data"
    }
   ],
   "source": [
    "profile5 = pd.DataFrame([['Quantidade', totalLinhas, porcnt_quantidade, coluna_quantidade, totalNull, min_quantidade,max_quantidade, quantidade_sum ]]\n",
    "                      ,columns=['NomeVar', 'Row Count', 'Uniqueness','Unique count', 'Qtd Nullos','Minimum','Maximum', 'Sum'])\n",
    "\n",
    "display(profile5) "
   ]
  },
  {
   "cell_type": "code",
   "execution_count": 136,
   "id": "a8fac839",
   "metadata": {},
   "outputs": [
    {
     "data": {
      "text/html": [
       "<div>\n",
       "<style scoped>\n",
       "    .dataframe tbody tr th:only-of-type {\n",
       "        vertical-align: middle;\n",
       "    }\n",
       "\n",
       "    .dataframe tbody tr th {\n",
       "        vertical-align: top;\n",
       "    }\n",
       "\n",
       "    .dataframe thead th {\n",
       "        text-align: right;\n",
       "    }\n",
       "</style>\n",
       "<table border=\"1\" class=\"dataframe\">\n",
       "  <thead>\n",
       "    <tr style=\"text-align: right;\">\n",
       "      <th></th>\n",
       "      <th>NomeVar</th>\n",
       "      <th>Row Count</th>\n",
       "      <th>Uniqueness</th>\n",
       "      <th>Unique count</th>\n",
       "      <th>Qtd Nullos</th>\n",
       "      <th>Minimum</th>\n",
       "      <th>Maximum</th>\n",
       "      <th>Sum</th>\n",
       "    </tr>\n",
       "  </thead>\n",
       "  <tbody>\n",
       "    <tr>\n",
       "      <th>0</th>\n",
       "      <td>Tipo Titulo</td>\n",
       "      <td>69</td>\n",
       "      <td>0.000870</td>\n",
       "      <td>6</td>\n",
       "      <td>0</td>\n",
       "      <td>Tesouro IGPM+ com Juros Semestrais</td>\n",
       "      <td>Tesouro Selic</td>\n",
       "      <td>NaN</td>\n",
       "    </tr>\n",
       "    <tr>\n",
       "      <th>0</th>\n",
       "      <td>Vencimento do Titulo</td>\n",
       "      <td>69</td>\n",
       "      <td>0.008406</td>\n",
       "      <td>58</td>\n",
       "      <td>0</td>\n",
       "      <td>2005-01-04 00:00:00</td>\n",
       "      <td>2019-01-01 00:00:00</td>\n",
       "      <td>NaN</td>\n",
       "    </tr>\n",
       "    <tr>\n",
       "      <th>0</th>\n",
       "      <td>PU</td>\n",
       "      <td>69</td>\n",
       "      <td>0.004203</td>\n",
       "      <td>29</td>\n",
       "      <td>0</td>\n",
       "      <td>1000.0</td>\n",
       "      <td>8627.689303</td>\n",
       "      <td>1.329232e+05</td>\n",
       "    </tr>\n",
       "    <tr>\n",
       "      <th>0</th>\n",
       "      <td>Quantidade</td>\n",
       "      <td>69</td>\n",
       "      <td>0.010000</td>\n",
       "      <td>69</td>\n",
       "      <td>0</td>\n",
       "      <td>106.2</td>\n",
       "      <td>1927482.65</td>\n",
       "      <td>1.125109e+07</td>\n",
       "    </tr>\n",
       "  </tbody>\n",
       "</table>\n",
       "</div>"
      ],
      "text/plain": [
       "                NomeVar  Row Count  Uniqueness  Unique count  Qtd Nullos  \\\n",
       "0           Tipo Titulo         69    0.000870             6           0   \n",
       "0  Vencimento do Titulo         69    0.008406            58           0   \n",
       "0                    PU         69    0.004203            29           0   \n",
       "0            Quantidade         69    0.010000            69           0   \n",
       "\n",
       "                              Minimum              Maximum           Sum  \n",
       "0  Tesouro IGPM+ com Juros Semestrais        Tesouro Selic           NaN  \n",
       "0                 2005-01-04 00:00:00  2019-01-01 00:00:00           NaN  \n",
       "0                              1000.0          8627.689303  1.329232e+05  \n",
       "0                               106.2           1927482.65  1.125109e+07  "
      ]
     },
     "metadata": {},
     "output_type": "display_data"
    }
   ],
   "source": [
    "profile = profile.append(profile5)\n",
    "display(profile)"
   ]
  },
  {
   "cell_type": "code",
   "execution_count": 137,
   "id": "2d996cb4",
   "metadata": {},
   "outputs": [
    {
     "data": {
      "text/html": [
       "<div>\n",
       "<style scoped>\n",
       "    .dataframe tbody tr th:only-of-type {\n",
       "        vertical-align: middle;\n",
       "    }\n",
       "\n",
       "    .dataframe tbody tr th {\n",
       "        vertical-align: top;\n",
       "    }\n",
       "\n",
       "    .dataframe thead th {\n",
       "        text-align: right;\n",
       "    }\n",
       "</style>\n",
       "<table border=\"1\" class=\"dataframe\">\n",
       "  <thead>\n",
       "    <tr style=\"text-align: right;\">\n",
       "      <th></th>\n",
       "      <th>NomeVar</th>\n",
       "      <th>Row Count</th>\n",
       "      <th>Uniqueness</th>\n",
       "      <th>Unique count</th>\n",
       "      <th>Qtd Nullos</th>\n",
       "      <th>Minimum</th>\n",
       "      <th>Maximum</th>\n",
       "      <th>Sum</th>\n",
       "    </tr>\n",
       "  </thead>\n",
       "  <tbody>\n",
       "    <tr>\n",
       "      <th>0</th>\n",
       "      <td>Valor</td>\n",
       "      <td>69</td>\n",
       "      <td>100.0</td>\n",
       "      <td>69</td>\n",
       "      <td>0</td>\n",
       "      <td>200410.48</td>\n",
       "      <td>2.059409e+09</td>\n",
       "      <td>1.577937e+10</td>\n",
       "    </tr>\n",
       "  </tbody>\n",
       "</table>\n",
       "</div>"
      ],
      "text/plain": [
       "  NomeVar  Row Count  Uniqueness  Unique count  Qtd Nullos    Minimum  \\\n",
       "0   Valor         69       100.0            69           0  200410.48   \n",
       "\n",
       "        Maximum           Sum  \n",
       "0  2.059409e+09  1.577937e+10  "
      ]
     },
     "metadata": {},
     "output_type": "display_data"
    }
   ],
   "source": [
    "profile6 = pd.DataFrame([['Valor', totalLinhas, porcnt_valor, coluna_valor, totalNull, min_valor,max_valor, valor_sum]]\n",
    "                      ,columns=['NomeVar', 'Row Count', 'Uniqueness','Unique count', 'Qtd Nullos','Minimum','Maximum', 'Sum'])\n",
    "\n",
    "display(profile6) "
   ]
  },
  {
   "cell_type": "code",
   "execution_count": 138,
   "id": "ad6ec4a5",
   "metadata": {},
   "outputs": [
    {
     "data": {
      "text/html": [
       "<div>\n",
       "<style scoped>\n",
       "    .dataframe tbody tr th:only-of-type {\n",
       "        vertical-align: middle;\n",
       "    }\n",
       "\n",
       "    .dataframe tbody tr th {\n",
       "        vertical-align: top;\n",
       "    }\n",
       "\n",
       "    .dataframe thead th {\n",
       "        text-align: right;\n",
       "    }\n",
       "</style>\n",
       "<table border=\"1\" class=\"dataframe\">\n",
       "  <thead>\n",
       "    <tr style=\"text-align: right;\">\n",
       "      <th></th>\n",
       "      <th>NomeVar</th>\n",
       "      <th>Row Count</th>\n",
       "      <th>Uniqueness</th>\n",
       "      <th>Unique count</th>\n",
       "      <th>Qtd Nullos</th>\n",
       "      <th>Minimum</th>\n",
       "      <th>Maximum</th>\n",
       "      <th>Sum</th>\n",
       "    </tr>\n",
       "  </thead>\n",
       "  <tbody>\n",
       "    <tr>\n",
       "      <th>0</th>\n",
       "      <td>Tipo Titulo</td>\n",
       "      <td>69</td>\n",
       "      <td>0.000870</td>\n",
       "      <td>6</td>\n",
       "      <td>0</td>\n",
       "      <td>Tesouro IGPM+ com Juros Semestrais</td>\n",
       "      <td>Tesouro Selic</td>\n",
       "      <td>NaN</td>\n",
       "    </tr>\n",
       "    <tr>\n",
       "      <th>0</th>\n",
       "      <td>Vencimento do Titulo</td>\n",
       "      <td>69</td>\n",
       "      <td>0.008406</td>\n",
       "      <td>58</td>\n",
       "      <td>0</td>\n",
       "      <td>2005-01-04 00:00:00</td>\n",
       "      <td>2019-01-01 00:00:00</td>\n",
       "      <td>NaN</td>\n",
       "    </tr>\n",
       "    <tr>\n",
       "      <th>0</th>\n",
       "      <td>PU</td>\n",
       "      <td>69</td>\n",
       "      <td>0.004203</td>\n",
       "      <td>29</td>\n",
       "      <td>0</td>\n",
       "      <td>1000.0</td>\n",
       "      <td>8627.689303</td>\n",
       "      <td>1.329232e+05</td>\n",
       "    </tr>\n",
       "    <tr>\n",
       "      <th>0</th>\n",
       "      <td>Quantidade</td>\n",
       "      <td>69</td>\n",
       "      <td>0.010000</td>\n",
       "      <td>69</td>\n",
       "      <td>0</td>\n",
       "      <td>106.2</td>\n",
       "      <td>1927482.65</td>\n",
       "      <td>1.125109e+07</td>\n",
       "    </tr>\n",
       "    <tr>\n",
       "      <th>0</th>\n",
       "      <td>Valor</td>\n",
       "      <td>69</td>\n",
       "      <td>100.000000</td>\n",
       "      <td>69</td>\n",
       "      <td>0</td>\n",
       "      <td>200410.48</td>\n",
       "      <td>2059408998.0</td>\n",
       "      <td>1.577937e+10</td>\n",
       "    </tr>\n",
       "  </tbody>\n",
       "</table>\n",
       "</div>"
      ],
      "text/plain": [
       "                NomeVar  Row Count  Uniqueness  Unique count  Qtd Nullos  \\\n",
       "0           Tipo Titulo         69    0.000870             6           0   \n",
       "0  Vencimento do Titulo         69    0.008406            58           0   \n",
       "0                    PU         69    0.004203            29           0   \n",
       "0            Quantidade         69    0.010000            69           0   \n",
       "0                 Valor         69  100.000000            69           0   \n",
       "\n",
       "                              Minimum              Maximum           Sum  \n",
       "0  Tesouro IGPM+ com Juros Semestrais        Tesouro Selic           NaN  \n",
       "0                 2005-01-04 00:00:00  2019-01-01 00:00:00           NaN  \n",
       "0                              1000.0          8627.689303  1.329232e+05  \n",
       "0                               106.2           1927482.65  1.125109e+07  \n",
       "0                           200410.48         2059408998.0  1.577937e+10  "
      ]
     },
     "metadata": {},
     "output_type": "display_data"
    }
   ],
   "source": [
    "profile = profile.append(profile6)\n",
    "display(profile)"
   ]
  },
  {
   "cell_type": "code",
   "execution_count": 139,
   "id": "d968bbe7",
   "metadata": {},
   "outputs": [
    {
     "name": "stderr",
     "output_type": "stream",
     "text": [
      "<ipython-input-139-57ebc35a0c63>:3: FutureWarning: As the xlwt package is no longer maintained, the xlwt engine will be removed in a future version of pandas. This is the only engine in pandas that supports writing in the xls format. Install openpyxl and write to an xlsx file instead. You can set the option io.excel.xls.writer to 'xlwt' to silence this warning. While this option is deprecated and will also raise a warning, it can be globally set and the warning suppressed.\n",
      "  profile.to_excel('profiles.xls', index = False)\n"
     ]
    }
   ],
   "source": [
    "#Salva o DataFrame em Excel\n",
    "\n",
    "profile.to_excel('profiles.xls', index = False)"
   ]
  },
  {
   "cell_type": "code",
   "execution_count": null,
   "id": "08f69163",
   "metadata": {},
   "outputs": [],
   "source": []
  },
  {
   "cell_type": "code",
   "execution_count": 25,
   "id": "cb85b863",
   "metadata": {
    "scrolled": true
   },
   "outputs": [
    {
     "name": "stdout",
     "output_type": "stream",
     "text": [
      "Nome da Origem           1\n",
      "Tipo Titulo              6\n",
      "Vencimento do Titulo    58\n",
      "Data Resgate            58\n",
      "PU                      29\n",
      "Quantidade              69\n",
      "Valor                   69\n",
      "dtype: int64\n"
     ]
    }
   ],
   "source": [
    "print(base7_df.nunique())"
   ]
  },
  {
   "cell_type": "code",
   "execution_count": 140,
   "id": "b48e67b1",
   "metadata": {},
   "outputs": [
    {
     "name": "stdout",
     "output_type": "stream",
     "text": [
      "<class 'pandas.core.frame.DataFrame'>\n",
      "Int64Index: 5 entries, 0 to 0\n",
      "Data columns (total 8 columns):\n",
      " #   Column        Non-Null Count  Dtype  \n",
      "---  ------        --------------  -----  \n",
      " 0   NomeVar       5 non-null      object \n",
      " 1   Row Count     5 non-null      int64  \n",
      " 2   Uniqueness    5 non-null      float64\n",
      " 3   Unique count  5 non-null      int64  \n",
      " 4   Qtd Nullos    5 non-null      int64  \n",
      " 5   Minimum       5 non-null      object \n",
      " 6   Maximum       5 non-null      object \n",
      " 7   Sum           3 non-null      float64\n",
      "dtypes: float64(2), int64(3), object(3)\n",
      "memory usage: 360.0+ bytes\n"
     ]
    }
   ],
   "source": [
    "profile.info()"
   ]
  },
  {
   "cell_type": "code",
   "execution_count": null,
   "id": "1ff1ebc6",
   "metadata": {},
   "outputs": [],
   "source": []
  },
  {
   "cell_type": "code",
   "execution_count": 106,
   "id": "a0b74424",
   "metadata": {},
   "outputs": [
    {
     "data": {
      "text/html": [
       "<div>\n",
       "<style scoped>\n",
       "    .dataframe tbody tr th:only-of-type {\n",
       "        vertical-align: middle;\n",
       "    }\n",
       "\n",
       "    .dataframe tbody tr th {\n",
       "        vertical-align: top;\n",
       "    }\n",
       "\n",
       "    .dataframe thead th {\n",
       "        text-align: right;\n",
       "    }\n",
       "</style>\n",
       "<table border=\"1\" class=\"dataframe\">\n",
       "  <thead>\n",
       "    <tr style=\"text-align: right;\">\n",
       "      <th></th>\n",
       "      <th>Row Count</th>\n",
       "      <th>Uniqueness</th>\n",
       "      <th>Unique count</th>\n",
       "      <th>Qtd Nullos</th>\n",
       "    </tr>\n",
       "  </thead>\n",
       "  <tbody>\n",
       "    <tr>\n",
       "      <th>count</th>\n",
       "      <td>6.0</td>\n",
       "      <td>6.000000</td>\n",
       "      <td>6.000000</td>\n",
       "      <td>6.0</td>\n",
       "    </tr>\n",
       "    <tr>\n",
       "      <th>mean</th>\n",
       "      <td>69.0</td>\n",
       "      <td>16.671981</td>\n",
       "      <td>48.166667</td>\n",
       "      <td>0.0</td>\n",
       "    </tr>\n",
       "    <tr>\n",
       "      <th>std</th>\n",
       "      <td>0.0</td>\n",
       "      <td>40.822226</td>\n",
       "      <td>25.325218</td>\n",
       "      <td>0.0</td>\n",
       "    </tr>\n",
       "    <tr>\n",
       "      <th>min</th>\n",
       "      <td>69.0</td>\n",
       "      <td>0.000870</td>\n",
       "      <td>6.000000</td>\n",
       "      <td>0.0</td>\n",
       "    </tr>\n",
       "    <tr>\n",
       "      <th>25%</th>\n",
       "      <td>69.0</td>\n",
       "      <td>0.005254</td>\n",
       "      <td>36.250000</td>\n",
       "      <td>0.0</td>\n",
       "    </tr>\n",
       "    <tr>\n",
       "      <th>50%</th>\n",
       "      <td>69.0</td>\n",
       "      <td>0.008406</td>\n",
       "      <td>58.000000</td>\n",
       "      <td>0.0</td>\n",
       "    </tr>\n",
       "    <tr>\n",
       "      <th>75%</th>\n",
       "      <td>69.0</td>\n",
       "      <td>0.009601</td>\n",
       "      <td>66.250000</td>\n",
       "      <td>0.0</td>\n",
       "    </tr>\n",
       "    <tr>\n",
       "      <th>max</th>\n",
       "      <td>69.0</td>\n",
       "      <td>100.000000</td>\n",
       "      <td>69.000000</td>\n",
       "      <td>0.0</td>\n",
       "    </tr>\n",
       "  </tbody>\n",
       "</table>\n",
       "</div>"
      ],
      "text/plain": [
       "       Row Count  Uniqueness  Unique count  Qtd Nullos\n",
       "count        6.0    6.000000      6.000000         6.0\n",
       "mean        69.0   16.671981     48.166667         0.0\n",
       "std          0.0   40.822226     25.325218         0.0\n",
       "min         69.0    0.000870      6.000000         0.0\n",
       "25%         69.0    0.005254     36.250000         0.0\n",
       "50%         69.0    0.008406     58.000000         0.0\n",
       "75%         69.0    0.009601     66.250000         0.0\n",
       "max         69.0  100.000000     69.000000         0.0"
      ]
     },
     "execution_count": 106,
     "metadata": {},
     "output_type": "execute_result"
    }
   ],
   "source": [
    "profile.describe()"
   ]
  }
 ],
 "metadata": {
  "kernelspec": {
   "display_name": "Python 3",
   "language": "python",
   "name": "python3"
  },
  "language_info": {
   "codemirror_mode": {
    "name": "ipython",
    "version": 3
   },
   "file_extension": ".py",
   "mimetype": "text/x-python",
   "name": "python",
   "nbconvert_exporter": "python",
   "pygments_lexer": "ipython3",
   "version": "3.8.8"
  }
 },
 "nbformat": 4,
 "nbformat_minor": 5
}
